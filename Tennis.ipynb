{
 "cells": [
  {
   "cell_type": "markdown",
   "metadata": {},
   "source": [
    "# Collaboration and Competition\n",
    "\n",
    "---\n",
    "\n",
    "In this notebook, you will learn how to use the Unity ML-Agents environment for the third project of the [Deep Reinforcement Learning Nanodegree](https://www.udacity.com/course/deep-reinforcement-learning-nanodegree--nd893) program.\n",
    "\n",
    "### 1. Start the Environment\n",
    "\n",
    "We begin by importing the necessary packages.  If the code cell below returns an error, please revisit the project instructions to double-check that you have installed [Unity ML-Agents](https://github.com/Unity-Technologies/ml-agents/blob/master/docs/Installation.md) and [NumPy](http://www.numpy.org/)."
   ]
  },
  {
   "cell_type": "code",
   "execution_count": 1,
   "metadata": {},
   "outputs": [],
   "source": [
    "from unityagents import UnityEnvironment\n",
    "import numpy as np"
   ]
  },
  {
   "cell_type": "markdown",
   "metadata": {},
   "source": [
    "Next, we will start the environment!  **_Before running the code cell below_**, change the `file_name` parameter to match the location of the Unity environment that you downloaded.\n",
    "\n",
    "- **Mac**: `\"path/to/Tennis.app\"`\n",
    "- **Windows** (x86): `\"path/to/Tennis_Windows_x86/Tennis.exe\"`\n",
    "- **Windows** (x86_64): `\"path/to/Tennis_Windows_x86_64/Tennis.exe\"`\n",
    "- **Linux** (x86): `\"path/to/Tennis_Linux/Tennis.x86\"`\n",
    "- **Linux** (x86_64): `\"path/to/Tennis_Linux/Tennis.x86_64\"`\n",
    "- **Linux** (x86, headless): `\"path/to/Tennis_Linux_NoVis/Tennis.x86\"`\n",
    "- **Linux** (x86_64, headless): `\"path/to/Tennis_Linux_NoVis/Tennis.x86_64\"`\n",
    "\n",
    "For instance, if you are using a Mac, then you downloaded `Tennis.app`.  If this file is in the same folder as the notebook, then the line below should appear as follows:\n",
    "```\n",
    "env = UnityEnvironment(file_name=\"Tennis.app\")\n",
    "```"
   ]
  },
  {
   "cell_type": "code",
   "execution_count": 2,
   "metadata": {},
   "outputs": [
    {
     "name": "stderr",
     "output_type": "stream",
     "text": [
      "INFO:unityagents:\n",
      "'Academy' started successfully!\n",
      "Unity Academy name: Academy\n",
      "        Number of Brains: 1\n",
      "        Number of External Brains : 1\n",
      "        Lesson number : 0\n",
      "        Reset Parameters :\n",
      "\t\t\n",
      "Unity brain name: TennisBrain\n",
      "        Number of Visual Observations (per agent): 0\n",
      "        Vector Observation space type: continuous\n",
      "        Vector Observation space size (per agent): 8\n",
      "        Number of stacked Vector Observation: 3\n",
      "        Vector Action space type: continuous\n",
      "        Vector Action space size (per agent): 2\n",
      "        Vector Action descriptions: , \n"
     ]
    }
   ],
   "source": [
    "env = UnityEnvironment(file_name=\"Tennis.app\")"
   ]
  },
  {
   "cell_type": "markdown",
   "metadata": {},
   "source": [
    "Environments contain **_brains_** which are responsible for deciding the actions of their associated agents. Here we check for the first brain available, and set it as the default brain we will be controlling from Python."
   ]
  },
  {
   "cell_type": "code",
   "execution_count": 3,
   "metadata": {},
   "outputs": [],
   "source": [
    "# get the default brain\n",
    "brain_name = env.brain_names[0]\n",
    "brain = env.brains[brain_name]"
   ]
  },
  {
   "cell_type": "markdown",
   "metadata": {},
   "source": [
    "### 2. Examine the State and Action Spaces\n",
    "\n",
    "In this environment, two agents control rackets to bounce a ball over a net. If an agent hits the ball over the net, it receives a reward of +0.1.  If an agent lets a ball hit the ground or hits the ball out of bounds, it receives a reward of -0.01.  Thus, the goal of each agent is to keep the ball in play.\n",
    "\n",
    "The observation space consists of 8 variables corresponding to the position and velocity of the ball and racket. Two continuous actions are available, corresponding to movement toward (or away from) the net, and jumping. \n",
    "\n",
    "Run the code cell below to print some information about the environment."
   ]
  },
  {
   "cell_type": "code",
   "execution_count": 4,
   "metadata": {},
   "outputs": [
    {
     "name": "stdout",
     "output_type": "stream",
     "text": [
      "Number of agents: 2\n",
      "Size of each action: 2\n",
      "There are 2 agents. Each observes a state with length: 24\n",
      "The state for the first agent looks like: [ 0.          0.          0.          0.          0.          0.\n",
      "  0.          0.          0.          0.          0.          0.\n",
      "  0.          0.          0.          0.         -6.65278625 -1.5\n",
      " -0.          0.          6.83172083  6.         -0.          0.        ]\n"
     ]
    }
   ],
   "source": [
    "# reset the environment\n",
    "env_info = env.reset(train_mode=True)[brain_name]\n",
    "\n",
    "# number of agents \n",
    "num_agents = len(env_info.agents)\n",
    "print('Number of agents:', num_agents)\n",
    "\n",
    "# size of each action\n",
    "action_size = brain.vector_action_space_size\n",
    "print('Size of each action:', action_size)\n",
    "\n",
    "# examine the state space \n",
    "states = env_info.vector_observations\n",
    "state_size = states.shape[1]\n",
    "print('There are {} agents. Each observes a state with length: {}'.format(states.shape[0], state_size))\n",
    "print('The state for the first agent looks like:', states[0])"
   ]
  },
  {
   "cell_type": "code",
   "execution_count": 5,
   "metadata": {},
   "outputs": [
    {
     "data": {
      "text/plain": [
       "array([ 0.        ,  0.        ,  0.        ,  0.        ,  0.        ,\n",
       "        0.        ,  0.        ,  0.        ,  0.        ,  0.        ,\n",
       "        0.        ,  0.        ,  0.        ,  0.        ,  0.        ,\n",
       "        0.        , -6.4669857 , -1.5       ,  0.        ,  0.        ,\n",
       "       -6.83172083,  6.        ,  0.        ,  0.        ])"
      ]
     },
     "execution_count": 5,
     "metadata": {},
     "output_type": "execute_result"
    }
   ],
   "source": [
    "states[1]"
   ]
  },
  {
   "cell_type": "markdown",
   "metadata": {},
   "source": [
    "### 3. Take Random Actions in the Environment\n",
    "\n",
    "In the next code cell, you will learn how to use the Python API to control the agents and receive feedback from the environment.\n",
    "\n",
    "Once this cell is executed, you will watch the agents' performance, if they select actions at random with each time step.  A window should pop up that allows you to observe the agents.\n",
    "\n",
    "Of course, as part of the project, you'll have to change the code so that the agents are able to use their experiences to gradually choose better actions when interacting with the environment!"
   ]
  },
  {
   "cell_type": "code",
   "execution_count": 6,
   "metadata": {},
   "outputs": [
    {
     "name": "stdout",
     "output_type": "stream",
     "text": [
      "Score (max over agents) from episode 1: 0.09000000171363354\n",
      "Score (max over agents) from episode 2: 0.0\n",
      "Score (max over agents) from episode 3: 0.09000000171363354\n",
      "Score (max over agents) from episode 4: 0.09000000171363354\n",
      "Score (max over agents) from episode 5: 0.0\n"
     ]
    }
   ],
   "source": [
    "for i in range(1, 6):                                      # play game for 5 episodes\n",
    "    env_info = env.reset(train_mode=False)[brain_name]     # reset the environment    \n",
    "    states = env_info.vector_observations                  # get the current state (for each agent)\n",
    "    scores = np.zeros(num_agents)                          # initialize the score (for each agent)\n",
    "    while True:\n",
    "        actions = np.random.randn(num_agents, action_size) # select an action (for each agent)\n",
    "        actions = np.clip(actions, -1, 1)                  # all actions between -1 and 1\n",
    "        env_info = env.step(actions)[brain_name]           # send all actions to tne environment\n",
    "        next_states = env_info.vector_observations         # get next state (for each agent)\n",
    "        rewards = env_info.rewards                         # get reward (for each agent)\n",
    "        dones = env_info.local_done                        # see if episode finished\n",
    "        scores += env_info.rewards                         # update the score (for each agent)\n",
    "        states = next_states                               # roll over states to next time step\n",
    "        if np.any(dones):                                  # exit loop if episode finished\n",
    "            break\n",
    "    print('Score (max over agents) from episode {}: {}'.format(i, np.max(scores)))"
   ]
  },
  {
   "cell_type": "markdown",
   "metadata": {},
   "source": [
    "When finished, you can close the environment."
   ]
  },
  {
   "cell_type": "code",
   "execution_count": 7,
   "metadata": {},
   "outputs": [],
   "source": [
    "#env.close()"
   ]
  },
  {
   "cell_type": "markdown",
   "metadata": {},
   "source": [
    "### 4. It's Your Turn!\n",
    "\n",
    "Now it's your turn to train your own agent to solve the environment!  When training the environment, set `train_mode=True`, so that the line for resetting the environment looks like the following:\n",
    "```python\n",
    "env_info = env.reset(train_mode=True)[brain_name]\n",
    "```"
   ]
  },
  {
   "cell_type": "code",
   "execution_count": 8,
   "metadata": {},
   "outputs": [
    {
     "name": "stderr",
     "output_type": "stream",
     "text": [
      "WARNING:matplotlib:Duplicate key in file '/Users/nontawatpattanajak/.matplotlib/matplotlibrc', line 4 ('backend: TkAgg')\n"
     ]
    }
   ],
   "source": [
    "from maddpg import Agent\n",
    "from collections import deque\n",
    "import torch\n",
    "import matplotlib.pyplot as plt\n",
    "\n",
    "# High Level Parameters\n",
    "ACCEPTED_SCORE = 0.5\n",
    "ADD_NOISE = True\n",
    "PRINT_EVERY = 20\n",
    "MAX_LENGTH_WINDOW = 100\n",
    "\n",
    "# Initilize agents\n",
    "agent_0 = Agent(state_size, action_size, num_agents=1, random_seed=0)\n",
    "agent_1 = Agent(state_size, action_size, num_agents=1, random_seed=0)"
   ]
  },
  {
   "cell_type": "code",
   "execution_count": 9,
   "metadata": {},
   "outputs": [],
   "source": [
    "def maddpg(max_episode=2000, max_time=1000, train_mode=True):\n",
    "    \"\"\"\n",
    "    Multi-Agent Deep Deterministic Policy Gradient (MADDPG)\n",
    "    \n",
    "    Parameters:\n",
    "    max_episode (int)   : Number of Episode to train\n",
    "    max_time(int)       : Number of timestep for each episode\n",
    "    train_mode (bool)   : True is training mode\n",
    "    \"\"\"\n",
    "    \n",
    "    score_window = deque(maxlen=MAX_LENGTH_WINDOW)\n",
    "    score_all = []\n",
    "    avg_score = []\n",
    "    \n",
    "    best_score = -np.inf\n",
    "    best_episode = 0\n",
    "    \n",
    "    for i_episode in range(1, max_episode+1):\n",
    "        env_info = env.reset(train_mode = train_mode)[brain_name]    # reset environment\n",
    "        states = np.reshape(env_info.vector_observations, (1,48))    # convert state (2,24) to (1,48)\n",
    "        agent_0.reset()\n",
    "        agent_1.reset()\n",
    "        scores = np.zeros(num_agents)\n",
    "        \n",
    "        while True:\n",
    "            \n",
    "            # get actions (from trained policy)\n",
    "            action_0 = agent_0.act(states, ADD_NOISE)\n",
    "            action_1 = agent_1.act(states, ADD_NOISE)\n",
    "            actions = np.concatenate((action_0, action_1), axis = 0).flatten()\n",
    "            \n",
    "            # get next_state, reward, done from environment after taking action for both agents\n",
    "            env_info = env.step(actions)[brain_name] \n",
    "            next_states = np.reshape(env_info.vector_observations, (1, 48))  # next state\n",
    "            rewards = env_info.rewards                                       # reward\n",
    "            done = env_info.local_done                                       # episode finishes if True\n",
    "            \n",
    "            # Two agents learn experience\n",
    "            agent_0.step(states, actions, rewards[0], next_states, done, 0) # agent 1 learns\n",
    "            agent_1.step(states, actions, rewards[1], next_states, done, 1) # agent 2 learns\n",
    "            \n",
    "            # calculate score and check environment status\n",
    "            scores += np.max(rewards)\n",
    "            states = next_states\n",
    "            if np.any(done):\n",
    "                break\n",
    "            \n",
    "        episode_best_score = np.max(scores)              # find the best score for each episode\n",
    "        score_window.append(episode_best_score)          # add score in 100 window size\n",
    "        score_all.append(episode_best_score)             # collect all score\n",
    "        avg_score.append(np.mean(score_window))  # Average score\n",
    "        \n",
    "        # check best score and best episode\n",
    "        if episode_best_score > best_score:\n",
    "            best_score = episode_best_score\n",
    "            best_episode = i_episode\n",
    "            \n",
    "        # print result\n",
    "        if i_episode % PRINT_EVERY == 0:\n",
    "            print('Episodes {:0>4d}-{:0>4d}\\tMax Reward: {:.3f}\\tAverage Score: {:.3f}'.format(\n",
    "                i_episode-PRINT_EVERY+1, i_episode, np.max(score_all[-PRINT_EVERY:]), avg_score[-1]))\n",
    "            \n",
    "        # Save trained weights when the score meets the accepted level\n",
    "        if avg_score[-1] >= ACCEPTED_SCORE:\n",
    "            print('--Environment solved in {:d} episodes with average Score: {:.3f}'.format(\n",
    "                i_episode-MAX_LENGTH_WINDOW, avg_score[-1]))\n",
    "            torch.save(agent_0.actor_local.state_dict(), 'actor_0.pth')\n",
    "            torch.save(agent_0.critic_local.state_dict(), 'critic_0.pth')\n",
    "            torch.save(agent_1.actor_local.state_dict(), 'actor_1.pth')\n",
    "            torch.save(agent_1.critic_local.state_dict(), 'critic_1.pth')\n",
    "            break\n",
    "            \n",
    "    return score_all, avg_score"
   ]
  },
  {
   "cell_type": "code",
   "execution_count": 10,
   "metadata": {},
   "outputs": [
    {
     "name": "stdout",
     "output_type": "stream",
     "text": [
      "Episodes 0001-0020\tMax Reward: 0.100\tAverage Score: 0.005\n",
      "Episodes 0021-0040\tMax Reward: 0.100\tAverage Score: 0.008\n",
      "Episodes 0041-0060\tMax Reward: 0.100\tAverage Score: 0.022\n",
      "Episodes 0061-0080\tMax Reward: 0.100\tAverage Score: 0.030\n",
      "Episodes 0081-0100\tMax Reward: 0.200\tAverage Score: 0.041\n",
      "Episodes 0101-0120\tMax Reward: 0.300\tAverage Score: 0.060\n",
      "Episodes 0121-0140\tMax Reward: 0.200\tAverage Score: 0.078\n",
      "Episodes 0141-0160\tMax Reward: 0.200\tAverage Score: 0.081\n",
      "Episodes 0161-0180\tMax Reward: 0.400\tAverage Score: 0.094\n",
      "Episodes 0181-0200\tMax Reward: 0.200\tAverage Score: 0.101\n",
      "Episodes 0201-0220\tMax Reward: 0.200\tAverage Score: 0.105\n",
      "Episodes 0221-0240\tMax Reward: 0.200\tAverage Score: 0.103\n",
      "Episodes 0241-0260\tMax Reward: 0.200\tAverage Score: 0.106\n",
      "Episodes 0261-0280\tMax Reward: 0.200\tAverage Score: 0.105\n",
      "Episodes 0281-0300\tMax Reward: 0.200\tAverage Score: 0.101\n",
      "Episodes 0301-0320\tMax Reward: 0.400\tAverage Score: 0.110\n",
      "Episodes 0321-0340\tMax Reward: 0.300\tAverage Score: 0.118\n",
      "Episodes 0341-0360\tMax Reward: 0.500\tAverage Score: 0.131\n",
      "Episodes 0361-0380\tMax Reward: 0.300\tAverage Score: 0.125\n",
      "Episodes 0381-0400\tMax Reward: 1.000\tAverage Score: 0.143\n",
      "Episodes 0401-0420\tMax Reward: 1.100\tAverage Score: 0.173\n",
      "Episodes 0421-0440\tMax Reward: 0.600\tAverage Score: 0.193\n",
      "Episodes 0441-0460\tMax Reward: 0.600\tAverage Score: 0.213\n",
      "Episodes 0461-0480\tMax Reward: 0.700\tAverage Score: 0.236\n",
      "Episodes 0481-0500\tMax Reward: 0.500\tAverage Score: 0.239\n",
      "Episodes 0501-0520\tMax Reward: 0.400\tAverage Score: 0.211\n",
      "Episodes 0521-0540\tMax Reward: 0.400\tAverage Score: 0.200\n",
      "Episodes 0541-0560\tMax Reward: 0.900\tAverage Score: 0.197\n",
      "Episodes 0561-0580\tMax Reward: 0.500\tAverage Score: 0.199\n",
      "Episodes 0581-0600\tMax Reward: 0.600\tAverage Score: 0.207\n",
      "Episodes 0601-0620\tMax Reward: 1.000\tAverage Score: 0.219\n",
      "Episodes 0621-0640\tMax Reward: 1.300\tAverage Score: 0.257\n",
      "Episodes 0641-0660\tMax Reward: 1.000\tAverage Score: 0.263\n",
      "Episodes 0661-0680\tMax Reward: 1.300\tAverage Score: 0.279\n",
      "Episodes 0681-0700\tMax Reward: 1.000\tAverage Score: 0.296\n",
      "Episodes 0701-0720\tMax Reward: 2.800\tAverage Score: 0.369\n",
      "Episodes 0721-0740\tMax Reward: 1.000\tAverage Score: 0.357\n",
      "Episodes 0741-0760\tMax Reward: 1.100\tAverage Score: 0.389\n",
      "Episodes 0761-0780\tMax Reward: 1.200\tAverage Score: 0.389\n",
      "Episodes 0781-0800\tMax Reward: 1.500\tAverage Score: 0.391\n",
      "Episodes 0801-0820\tMax Reward: 1.000\tAverage Score: 0.324\n",
      "Episodes 0821-0840\tMax Reward: 2.400\tAverage Score: 0.355\n",
      "Episodes 0841-0860\tMax Reward: 1.300\tAverage Score: 0.356\n",
      "Episodes 0861-0880\tMax Reward: 1.700\tAverage Score: 0.416\n",
      "Episodes 0881-0900\tMax Reward: 1.400\tAverage Score: 0.441\n",
      "Episodes 0901-0920\tMax Reward: 0.600\tAverage Score: 0.417\n",
      "Episodes 0921-0940\tMax Reward: 0.700\tAverage Score: 0.372\n",
      "Episodes 0941-0960\tMax Reward: 2.600\tAverage Score: 0.400\n",
      "Episodes 0961-0980\tMax Reward: 3.900\tAverage Score: 0.374\n",
      "Episodes 0981-1000\tMax Reward: 1.900\tAverage Score: 0.374\n",
      "Episodes 1001-1020\tMax Reward: 3.600\tAverage Score: 0.505\n",
      "--Environment solved in 920 episodes with average Score: 0.505\n"
     ]
    }
   ],
   "source": [
    "# activate code\n",
    "scores, avgs = maddpg()"
   ]
  },
  {
   "cell_type": "code",
   "execution_count": 11,
   "metadata": {},
   "outputs": [
    {
     "data": {
      "image/png": "[encoded data removed]",
      "text/plain": [
       "<Figure size 432x288 with 1 Axes>"
      ]
     },
     "metadata": {
      "needs_background": "light"
     },
     "output_type": "display_data"
    }
   ],
   "source": [
    "# plot the scores\n",
    "fig = plt.figure()\n",
    "ax = fig.add_subplot(111)\n",
    "plt.plot(np.arange(len(scores)), scores, label='MADDPG score')\n",
    "plt.plot(np.arange(len(scores)), avgs, c='r', label='moving avg score')\n",
    "plt.ylabel('Score')\n",
    "plt.xlabel('Episode')\n",
    "plt.legend(loc='upper left');\n",
    "plt.show()"
   ]
  },
  {
   "cell_type": "code",
   "execution_count": null,
   "metadata": {},
   "outputs": [],
   "source": []
  }
 ],
 "metadata": {
  "kernelspec": {
   "display_name": "Python 3",
   "language": "python",
   "name": "python3"
  },
  "language_info": {
   "codemirror_mode": {
    "name": "ipython",
    "version": 3
   },
   "file_extension": ".py",
   "mimetype": "text/x-python",
   "name": "python",
   "nbconvert_exporter": "python",
   "pygments_lexer": "ipython3",
   "version": "3.6.12"
  }
 },
 "nbformat": 4,
 "nbformat_minor": 2
}
